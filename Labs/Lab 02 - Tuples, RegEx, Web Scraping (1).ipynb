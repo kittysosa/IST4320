{
 "cells": [
  {
   "cell_type": "markdown",
   "id": "8c1655c3-ea9a-4708-8007-9bb8c0f07edc",
   "metadata": {},
   "source": [
    "# Lab #2 - Tuples, RegEx, Web Scraping"
   ]
  },
  {
   "cell_type": "markdown",
   "id": "c43ce6c4-c95e-4355-b8a9-b8e26348527d",
   "metadata": {},
   "source": [
    "<b>Question 1 (5 points)</b>\n",
    "\n",
    "Create a Python program that defines a tuple containing the following information: (your name, your age, your favorite color, your hometown). Print the tuple, and then extract and print your age from the tuple."
   ]
  },
  {
   "cell_type": "code",
   "execution_count": 1,
   "id": "c6c24af3-ba94-4bdc-90d6-27f00f5765c5",
   "metadata": {},
   "outputs": [
    {
     "name": "stdout",
     "output_type": "stream",
     "text": [
      "Tuple: ('Katie Sosa', 20, 'Pink', 'Ontario')\n",
      "Age: 20\n"
     ]
    }
   ],
   "source": [
    "\n",
    "personal_info = (\"Katie Sosa\", 20, \"Pink\", \"Ontario\")\n",
    "\n",
    "\n",
    "print(\"Tuple:\", personal_info)\n",
    "\n",
    "\n",
    "age = personal_info[1]\n",
    "print(\"Age:\", age)\n"
   ]
  },
  {
   "cell_type": "markdown",
   "id": "7ed5ab30-1f64-45e9-9707-28362aeaeb1f",
   "metadata": {},
   "source": [
    "<b>Question 2 (5 points)</b>\n",
    "\n",
    "Create a list of IPv4 addresses from the email security alert log below.\n",
    "Hint: The regex pattern for IPv4 addresses is given."
   ]
  },
  {
   "cell_type": "code",
   "execution_count": 3,
   "id": "912e7136-5ba7-496f-89af-636c1014d78e",
   "metadata": {
    "jupyter": {
     "outputs_hidden": true
    },
    "tags": []
   },
   "outputs": [
    {
     "name": "stdout",
     "output_type": "stream",
     "text": [
      "Email Log:\n",
      " Timestamp: 2023-10-24 09:15:20\n",
      "Event ID: 123456\n",
      "Event Type: Email Security Alert\n",
      "Source IP: 192.168.0.10\n",
      "Source Email: sender001@acmecorp.com\n",
      "Destination Email: security@acmecorp.com\n",
      "Description: An email from 'sender001@acmecorp.com' to 'security@acmecorp.com' raised suspicion. The attachment is flagged as a potential phishing threat and has been quarantined for analysis.\n",
      "\n",
      "Timestamp: 2023-10-24 10:30:45\n",
      "Event ID: 234567\n",
      "Event Type: Email Security Alert\n",
      "Source IP: 192.168.0.15\n",
      "Source Email: user123@bankofxyz.com\n",
      "Destination Email: recipient@acmecorp.com\n",
      "Description: An email from 'user123@bankofxyz.com' to 'recipient@acmecorp.com' is considered suspicious due to a known phishing link in the message body. The email has been quarantined for investigation.\n",
      "\n",
      "Timestamp: 2023-10-24 11:45:10\n",
      "Event ID: 345678\n",
      "Event Type: Email Security Alert\n",
      "Source IP: 192.168.0.20\n",
      "Source Email: sender@acmecorp.com\n",
      "Destination Email: contact@acmecorp.com\n",
      "Description: An email from 'sender@acmecorp.com' to 'contact@acmecorp.com' was flagged for potential malware in an attached document. The email and attachment have been quarantined.\n",
      "\n",
      "Timestamp: 2023-10-24 12:20:55\n",
      "Event ID: 456789\n",
      "Event Type: Email Security Alert\n",
      "Source IP: 192.168.0.25\n",
      "Source Email: admin@acmecorp.com\n",
      "Destination Email: finance@acmecorp.com\n",
      "Description: An email from 'admin@acmecorp.com' to 'finance@acmecorp.com' contained a suspicious link that points to a known malicious website. The email has been isolated for further inspection.\n",
      "\n",
      "Timestamp: 2023-10-24 13:40:30\n",
      "Event ID: 567890\n",
      "Event Type: Email Security Alert\n",
      "Source IP: 192.168.0.30\n",
      "Source Email: sender456@acmecorp.com\n",
      "Destination Email: hr@acmecorp.com\n",
      "Description: An email from 'sender456@acmecorp.com' to 'hr@acmecorp.com' triggered a security alert due to the presence of a suspicious attachment. The email has been secured for analysis.\n",
      "\n",
      "\n",
      "IPv4 Addresses:\n",
      "192.168.0.10\n",
      "192.168.0.15\n",
      "192.168.0.20\n",
      "192.168.0.25\n",
      "192.168.0.30\n"
     ]
    }
   ],
   "source": [
    "#file_path = \"email_log.txt\" \n",
    "#email_log = \"\"\n",
    "#with open(file_path, 'r') as file:\n",
    "    #email_log = file.read()\n",
    "\n",
    "\n",
    "#print(email_log)\n",
    "\n",
    "#ipv4_pattern = r\"((?:\\d{1,3}\\.){3}\\d{1,3})\"\n",
    "\n",
    "### Write your code below 😀\n",
    "import re\n",
    "\n",
    "file_path = \"email_log.txt\"\n",
    "\n",
    "email_log = \"\"\n",
    "with open(file_path, 'r') as file:\n",
    "    email_log = file.read()\n",
    "\n",
    "print(\"Email Log:\\n\", email_log)\n",
    "\n",
    "ipv4_pattern = r\"((?:\\d{1,3}\\.){3}\\d{1,3})\"\n",
    "\n",
    "ipv4_addresses = re.findall(ipv4_pattern, email_log)\n",
    "\n",
    "print(\"\\nIPv4 Addresses:\")\n",
    "for ip_address in ipv4_addresses:\n",
    "    print(ip_address)\n"
   ]
  },
  {
   "cell_type": "markdown",
   "id": "13941b3e-d557-4d8d-b7fb-b25c02afefdb",
   "metadata": {},
   "source": [
    "<b>Question 3 (5 points)</b>\n",
    "\n",
    "Write a Python program to validate emails from an input prompt. The prompt should ask \"What is your email?\" and then the user can input their email. If the email is in the incorrect format, the program should notify the user that the email is invalid and please try again.\n",
    "Hint: The search pattern for a correct email in regex is below:"
   ]
  },
  {
   "cell_type": "code",
   "execution_count": 4,
   "id": "175272c4-2fd4-4b92-b8f7-68ceefa553b8",
   "metadata": {},
   "outputs": [
    {
     "name": "stdout",
     "output_type": "stream",
     "text": [
      "What is your email? Katiesosaa123@icloud.com\n",
      "Your email is valid!\n"
     ]
    }
   ],
   "source": [
    "#email_pattern = r\"^\\w+@\\w+\\.\\w+$\"\n",
    "import re\n",
    "\n",
    "# Define the email pattern\n",
    "email_pattern = r\"^\\w+@\\w+\\.\\w+$\"\n",
    "\n",
    "# Prompt the user for their email\n",
    "user_email = input(\"What is your email? \")\n",
    "\n",
    "# Validate the email using regex\n",
    "if re.match(email_pattern, user_email):\n",
    "    print(\"Your email is valid!\")\n",
    "else:\n",
    "    print(\"Invalid email format. Please try again.\")\n",
    "\n"
   ]
  },
  {
   "cell_type": "markdown",
   "id": "d1110d20-d78e-4803-b0be-b6be3c84acb4",
   "metadata": {},
   "source": [
    "<b>Question 4 (10 points)</b>\n",
    "\n",
    "Use BeautifulSoup to scrape some information in a website! Here are some ideas:\n",
    "- Scrape the last 20 scored vulnerability IDs from https://nvd.nist.gov/ \n",
    "- Scrape the latest events from https://www.csusb.edu/events \n",
    "- Scrape the picture from https://this-person-does-not-exist.com/en This is challenging since the picture will change everytime :)\n",
    "- Something else! \n",
    "\n",
    "As long as you're scraping something from a website, it's good :). \n",
    "Please describe what you are trying to do! \n",
    "\n",
    "**CHALLENGE! +5 extra credit 😎** Use your scraped data for something! (e.g. scrape dynamic data to save as CSV, place data into a python dictionary, use scraped data as part of a calculation, scrape sections of a website based off user prompts, ask a user how many random people's faces they want then scrape that many and save to disk, etc.)\n"
   ]
  },
  {
   "cell_type": "code",
   "execution_count": 49,
   "id": "68ef2225-7692-4cad-9025-a98b98c30945",
   "metadata": {},
   "outputs": [
    {
     "name": "stdout",
     "output_type": "stream",
     "text": [
      "CVE-2023-43791\n",
      "CVE-2023-41138\n",
      "CVE-2023-48028\n",
      "CVE-2023-46402\n",
      "CVE-2023-44796\n",
      "CVE-2023-43177\n",
      "CVE-2023-41137\n",
      "CVE-2023-43504\n",
      "CVE-2023-43505\n",
      "CVE-2023-43503\n",
      "CVE-2023-28379\n",
      "CVE-2023-27882\n",
      "CVE-2023-46854\n",
      "CVE-2023-25181\n",
      "CVE-2023-44762\n",
      "CVE-2019-11069\n",
      "CVE-2023-48294\n",
      "CVE-2023-48238\n",
      "CVE-2023-46745\n",
      "CVE-2018-1000807\n"
     ]
    }
   ],
   "source": [
    "import requests\n",
    "import json\n",
    "\n",
    "# Base URL of the NIST API\n",
    "base_url = \"https://services.nvd.nist.gov/rest/json/cves/1.0\"\n",
    "\n",
    "# Parameters for the API request\n",
    "params = {\n",
    "   \"startIndex\": 0,\n",
    "   \"resultsPerPage\": 20\n",
    "}\n",
    "\n",
    "# Send a GET request to the NIST API\n",
    "response = requests.get(base_url, params=params)\n",
    "\n",
    "# Parse the JSON response\n",
    "data = response.json()\n",
    "\n",
    "# Extract the CVEs\n",
    "cves = data['result']['CVE_Items']\n",
    "\n",
    "\n",
    "# Print the details of each CVE\n",
    "for cve in cves:\n",
    "    print(cve[\"cve\"][\"CVE_data_meta\"][\"ID\"])"
   ]
  },
  {
   "cell_type": "markdown",
   "id": "14a42ad0-1f50-47ff-a2d3-5d7e532a9881",
   "metadata": {},
   "source": [
    "Copyright by Benjamin J. Becerra v2023.10.26.01"
   ]
  }
 ],
 "metadata": {
  "kernelspec": {
   "display_name": "Python 3 (ipykernel)",
   "language": "python",
   "name": "python3"
  },
  "language_info": {
   "codemirror_mode": {
    "name": "ipython",
    "version": 3
   },
   "file_extension": ".py",
   "mimetype": "text/x-python",
   "name": "python",
   "nbconvert_exporter": "python",
   "pygments_lexer": "ipython3",
   "version": "3.9.13"
  }
 },
 "nbformat": 4,
 "nbformat_minor": 5
}
