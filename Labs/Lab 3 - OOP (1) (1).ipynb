{
 "cells": [
  {
   "cell_type": "markdown",
   "id": "1a847ce0-9603-4bf9-9c04-2cd7aace832a",
   "metadata": {},
   "source": [
    "# Lab 3 - OOP and Additional Python Principles"
   ]
  },
  {
   "cell_type": "markdown",
   "id": "fec7c6da-93c6-4d1a-8799-92e54211362e",
   "metadata": {},
   "source": [
    "## Question 1 \n",
    "\n",
    "Create a class named 'NetworkDevice' with attributes for device name, IP address, and status. Implement a method 'display_info' that prints information about the network device into a single f-string (Hint: you can use \\n to make a new line within a single f-string). Then, create an instance of the class (device1) and interactively take input from the user for the device name, IP address, and status. \n",
    "\n",
    "Example: \n",
    "`Device1.set_info_from_user_input()`\n",
    "\n",
    "input windows will appear on the screen and ask the following: \n",
    "\n",
    "“Enter the device name:”, “Enter the IP address:”, and “Enter the device status:\"\n",
    "\n",
    "Finally, call the 'display_info' method to print the collected information.\n",
    "\n",
    "`device1.display_info()`\n",
    "\n",
    "Output:\n",
    "\n",
    "`Device Name: Ring Setup 4d`\n",
    "\n",
    "`IP Address: 192.168.0.5`\n",
    "\n",
    "`Status: Online`\n",
    "\n"
   ]
  },
  {
   "cell_type": "code",
   "execution_count": 1,
   "id": "02971019-af4e-4e5b-bf1e-b395bac0736a",
   "metadata": {},
   "outputs": [
    {
     "name": "stdout",
     "output_type": "stream",
     "text": [
      "Enter the device name: Ring Setup 4d\n",
      "Enter the IP address: 192.168.0.5\n",
      "Enter the device status: Online\n",
      "Device Name: Ring Setup 4d\n",
      "IP Address: 192.168.0.5\n",
      "Status: Online\n"
     ]
    }
   ],
   "source": [
    "class NetworkDevice:\n",
    "    def __init__(self):\n",
    "        self.device_name = \"\"\n",
    "        self.ip_address = \"\"\n",
    "        self.status = \"\"\n",
    "\n",
    "    def set_info_from_user_input(self):\n",
    "        self.device_name = input(\"Enter the device name: \")\n",
    "        self.ip_address = input(\"Enter the IP address: \")\n",
    "        self.status = input(\"Enter the device status: \")\n",
    "\n",
    "    def display_info(self):\n",
    "        info = f\"Device Name: {self.device_name}\\nIP Address: {self.ip_address}\\nStatus: {self.status}\"\n",
    "        print(info)\n",
    "\n",
    "device1 = NetworkDevice()\n",
    "\n",
    "device1.set_info_from_user_input()\n",
    "\n",
    "device1.display_info()"
   ]
  },
  {
   "cell_type": "markdown",
   "id": "b67fea0c-1a2d-4631-b887-2128b6c694ae",
   "metadata": {},
   "source": [
    "## Question 2\n",
    "The class `UserCredentials` below needs to be modified.\n",
    "\n",
    "a) Change the username and password into protected attributes.\n",
    "\n",
    "b) Create a decorator called strong_password_check() based off the following code to modify the set_password() method to check if it is a strong password or not. \n",
    "\n",
    "c) Try running the set_password() with \"password\" and \"Th1$is4securep455w0rd\" to see if it works 😎\n",
    "\n",
    "optional: You can save your decorator into a separate text file called `decorators.py` and then call it into your code using `from decorators import strong_password_check` 😎\n"
   ]
  },
  {
   "cell_type": "code",
   "execution_count": 3,
   "id": "b8a1a4a3-3c1e-4a6a-85b9-d378b24411b0",
   "metadata": {},
   "outputs": [
    {
     "name": "stdout",
     "output_type": "stream",
     "text": [
      "Password needs improvement. Make sure it meets the specified criteria.\n",
      "Password is strong.\n"
     ]
    }
   ],
   "source": [
    "# Turn this into a decorator called strong_password_check()\n",
    "# Use it to modify the set_password() method.\n",
    "# Check if the password meets the specified criteria\n",
    "def strong_password_check(func):   \n",
    "    def wrapper(self, password):\n",
    "        if (\n",
    "            len(password) >= 8 and\n",
    "            any(c.islower() for c in password) and\n",
    "            any(c.isupper() for c in password) and\n",
    "            any(c.isdigit() for c in password) and\n",
    "            any(c in r\"!@#$%^&*()-_+=<>?/\" for c in password)\n",
    "        ):\n",
    "            print(\"Password is strong.\")\n",
    "            func(self, password)\n",
    "        else:\n",
    "            print(\"Password needs improvement. Make sure it meets the specified criteria.\")\n",
    "            return None\n",
    "\n",
    "    return wrapper\n",
    "\n",
    "class User:\n",
    "    def __init__(self, username):\n",
    "        self._username = username\n",
    "        self._password = \"\"\n",
    "\n",
    "    @strong_password_check\n",
    "    def set_password(self, password):\n",
    "        self._password = password\n",
    "\n",
    "user1 = User(\"KatieS\")\n",
    "\n",
    "user1.set_password(\"password\")  \n",
    "user2 = User(\"KittyKat\")\n",
    "user2.set_password(\"Th1$is4securep455w0rd\")  \n",
    "          "
   ]
  },
  {
   "cell_type": "code",
   "execution_count": 4,
   "id": "918c9de5-ce0e-409d-9121-841245cac0f5",
   "metadata": {},
   "outputs": [
    {
     "name": "stdin",
     "output_type": "stream",
     "text": [
      "Enter your password:  asdf\n"
     ]
    }
   ],
   "source": [
    "class UserCredentials:\n",
    "    def __init__(self, username):\n",
    "        self.username = username  \n",
    "        self.password = None  \n",
    "    \n",
    "    def set_password(self, password):\n",
    "        self.password = password\n",
    "\n",
    "# Create an instance of the UserCredentials class\n",
    "user1 = UserCredentials(\"JohnDoe\")\n",
    "\n",
    "# Set the password interactively, ensuring it meets the specified criteria\n",
    "user_input_password = input(\"Enter your password: \")\n",
    "user1.set_password(user_input_password)\n"
   ]
  },
  {
   "cell_type": "markdown",
   "id": "bab5abbd-9f56-4fbb-ae25-210df4a719e5",
   "metadata": {},
   "source": [
    "## Question 3\n",
    "\n",
    "Right now this security logging system only logs the event type and timestamp.\n",
    "Make the system more flexible so that it will accept additional info using args and kwargs. Hint: You may need to edit the f-string as well :)"
   ]
  },
  {
   "cell_type": "code",
   "execution_count": 4,
   "id": "bd646510-483f-468d-be8b-673e9fa7ea14",
   "metadata": {},
   "outputs": [
    {
     "name": "stdout",
     "output_type": "stream",
     "text": [
      "2023-12-09 18:29:43 - Event Type: Authentication Failure\n",
      "2023-12-09 18:29:43 - Event Type: Authentication Failure\n",
      "Additional Info (kwargs): username=user123, source_ip=192.168.1.1\n",
      "2023-12-09 18:29:43 - Event Type: Firewall Alert\n",
      "Additional Info (args): Connection blocked\n",
      "Additional Info (kwargs): protocol=TCP, source_ip=10.0.0.2, destination_port=80\n",
      "2023-12-09 18:29:43 - Event Type: Malware Detected\n",
      "Additional Info (args): Signature match\n",
      "Additional Info (kwargs): file_path=/path/to/malicious/file.exe, severity=High\n"
     ]
    }
   ],
   "source": [
    "import datetime\n",
    "\n",
    "def log_security_event(event_type, *args, **kwargs):\n",
    "    timestamp = datetime.datetime.now().strftime(\"%Y-%m-%d %H:%M:%S\")\n",
    "    event_data = f\"{timestamp} - Event Type: {event_type}\"\n",
    "\n",
    "    if args:\n",
    "        event_data += f\"\\nAdditional Info (args): {', '.join(map(str, args))}\"\n",
    "\n",
    "    if kwargs:\n",
    "        event_data += f\"\\nAdditional Info (kwargs): {', '.join([f'{key}={value}' for key, value in kwargs.items()])}\"\n",
    "\n",
    "    print(event_data)  \n",
    "\n",
    "log_security_event(\"Authentication Failure\")  \n",
    "\n",
    "log_security_event(\"Authentication Failure\", username=\"user123\", source_ip=\"192.168.1.1\")\n",
    "log_security_event(\"Firewall Alert\", \"Connection blocked\", protocol=\"TCP\", source_ip=\"10.0.0.2\", destination_port=80)\n",
    "log_security_event(\"Malware Detected\", \"Signature match\", file_path=\"/path/to/malicious/file.exe\", severity=\"High\")\n"
   ]
  },
  {
   "cell_type": "code",
   "execution_count": null,
   "id": "2ff4a55f",
   "metadata": {},
   "outputs": [],
   "source": []
  }
 ],
 "metadata": {
  "kernelspec": {
   "display_name": "Python 3 (ipykernel)",
   "language": "python",
   "name": "python3"
  },
  "language_info": {
   "codemirror_mode": {
    "name": "ipython",
    "version": 3
   },
   "file_extension": ".py",
   "mimetype": "text/x-python",
   "name": "python",
   "nbconvert_exporter": "python",
   "pygments_lexer": "ipython3",
   "version": "3.9.13"
  }
 },
 "nbformat": 4,
 "nbformat_minor": 5
}
